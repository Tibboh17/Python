{
 "cells": [
  {
   "cell_type": "code",
   "execution_count": 1,
   "metadata": {},
   "outputs": [],
   "source": [
    "import numpy as np\n",
    "import pandas as pd\n",
    "import matplotlib.pyplot as plt"
   ]
  },
  {
   "cell_type": "code",
   "execution_count": null,
   "metadata": {},
   "outputs": [],
   "source": [
    "def sigmoid(z):\n",
    "    return 1 / (1 + np.exp(-z))\n",
    "\n",
    "def tanh(z):\n",
    "    return np.tanh(z)\n",
    "\n",
    "def standarize(data, train_mean, std):\n",
    "    return (data - train_mean) / std"
   ]
  },
  {
   "cell_type": "code",
   "execution_count": null,
   "metadata": {},
   "outputs": [],
   "source": [
    "def initialize_parameters(input_dimension, hidden_dimension):\n",
    "    weight_input = np.random.randn(hidden_dimension, input_dimension + hidden_dimension)\n",
    "    bias_input = np.zeros((hidden_dimension, 1))\n",
    "\n",
    "    weight_forget = np.random.randn(hidden_dimension, input_dimension + hidden_dimension)\n",
    "    bias_forget = np.zeros((hidden_dimension, 1))\n",
    "\n",
    "    weight_output = np.random.randn(hidden_dimension, input_dimension + hidden_dimension)\n",
    "    bias_output = np.zeros((hidden_dimension, 1))\n",
    "\n",
    "    weight_cell = np.random.randn(hidden_dimension, input_dimension + hidden_dimension)\n",
    "    bias_cell = np.zeros((hidden_dimension, 1))\n",
    "\n",
    "    parameters = [\n",
    "        weight_input, bias_input,\n",
    "        weight_forget, bias_forget,\n",
    "        weight_output, bias_output, \n",
    "        weight_cell, bias_cell\n",
    "        ]\n",
    "\n",
    "    return parameters"
   ]
  },
  {
   "cell_type": "code",
   "execution_count": null,
   "metadata": {},
   "outputs": [],
   "source": [
    "def forward_propagation(x, parameters):\n",
    "    weight_input, bias_input, weight_forget, bias_forget,weight_output, bias_output, weight_cell, bias_cell = parameters\n",
    "    hidden_states = np.zeros((weight_forget.shape[0], 1))\n",
    "    cell_states = np.zeros((weight_forget.shape[0], 1))\n",
    "\n",
    "    sequence_length, input_dim = x.shape\n",
    "    hidden_dim = weight_forget.shape[0]\n",
    "\n",
    "    cache = {\n",
    "        'hidden_states': np.zeros((sequence_length, hidden_dim, 1)),\n",
    "        'cell_states': np.zeros((sequence_length, hidden_dim, 1)),\n",
    "        'input_gate': np.zeros((sequence_length, hidden_dim, 1)),\n",
    "        'forget_gate': np.zeros((sequence_length, hidden_dim, 1)),\n",
    "        'output_gate': np.zeros((sequence_length, hidden_dim, 1)),\n",
    "        'cell_candidate': np.zeros((sequence_length, hidden_dim, 1)),\n",
    "        'x': x.reshape(sequence_length, input_dim, 1)\n",
    "    }\n",
    "\n",
    "    for t in range(x.shape[0]):\n",
    "        x_t = x[t].reshape(-1, 1)\n",
    "        concat = np.vstack((hidden_states, x_t))\n",
    "\n",
    "        input_gate = sigmoid(np.dot(weight_input, concat) + bias_input)\n",
    "        forget_gate = sigmoid(np.dot(weight_forget, concat) + bias_forget)\n",
    "        output_gate = sigmoid(np.dot(weight_output, concat) + bias_output)\n",
    "        cell_candidate = sigmoid(np.dot(weight_cell, concat) + bias_cell)\n",
    "\n",
    "        cell_states = forget_gate * cell_states + input_gate * cell_candidate\n",
    "        hidden_states = output_gate * tanh(cell_states)\n",
    "\n",
    "        cache['hidden_states'][t] = hidden_states\n",
    "        cache['cell_states'][t] = cell_states\n",
    "        cache['input_gate'][t] = input_gate\n",
    "        cache['forget_gate'][t] = forget_gate\n",
    "        cache['output_gate'][t] = output_gate\n",
    "        cache['cell_candidate'][t] = cell_candidate\n",
    "\n",
    "    return hidden_states, cell_states, cache"
   ]
  },
  {
   "cell_type": "code",
   "execution_count": null,
   "metadata": {},
   "outputs": [],
   "source": [
    "def backward_propagation_through_time(x, parameters, cache):\n",
    "    weight_input, bias_input, weight_forget, bias_forget,weight_output, bias_output, weight_cell, bias_cell = parameters\n",
    "\n",
    "    d_weight_input, d_bias_input = np.zeros_like(weight_input), np.zeros_like(bias_input)\n",
    "    d_weight_forget, d_bias_forget = np.zeros_like(weight_forget), np.zeros_like(bias_forget)\n",
    "    d_weight_output, d_bias_output = np.zeros_like(weight_output), np.zeros_like(bias_output)\n",
    "    d_weight_cell, d_bias_cell = np.zeros_like(weight_cell), np.zeros_like(bias_cell)\n",
    "    \n",
    "    d_hidden_next = np.zeros_like(cache['hidden_states'][0])\n",
    "    d_cell_next = np.zeros_like(cache['cell_states'][0])\n",
    "\n",
    "    for t in reversed(range(x.shape[0])):\n",
    "        hidden_states_t = cache['hidden_states'][t]\n",
    "        cell_states_t = cache['cell_states'][t]\n",
    "        input_gate_t = cache['input_gate'][t]\n",
    "        forget_gate_t = cache['forget_gate'][t]\n",
    "        output_gate_t = cache['output_gate'][t]\n",
    "        cell_cadidates_t = cache['cell_states'][t]\n",
    "        x_t = cache['x'][t]\n",
    "\n",
    "        "
   ]
  },
  {
   "cell_type": "code",
   "execution_count": 3,
   "metadata": {},
   "outputs": [],
   "source": [
    "file_path = '../../Datasets/조업편차분석.csv'\n",
    "data = pd.read_csv(file_path)\n",
    "\n",
    "data['Origin'] = data.index\n",
    "shuffled_data = data.sample(frac=1, random_state=42).reset_index(drop=True)\n",
    "\n",
    "train_size = int(len(shuffled_data) * 0.8)\n",
    "train_data, test_data = shuffled_data.iloc[:train_size], shuffled_data.iloc[train_size:]\n",
    "\n",
    "x_train, y_train = train_data.drop(columns=['No.', 'A1', 'Origin'], axis=1), train_data['A1']\n",
    "\n",
    "x_train_mean = np.mean(x_train, axis=0)\n",
    "x_train_std = np.std(x_train, axis=0)\n",
    "y_train_mean = np.mean(y_train, axis=0)\n",
    "y_train_std = np.std(y_train, axis=0)\n",
    "\n",
    "x_train = standarize(x_train, x_train_mean, x_train_std).to_numpy()\n",
    "y_train = standarize(y_train, y_train_mean, y_train_std).to_numpy().reshape(-1, 1)\n",
    "\n",
    "test_data_sorted = test_data.sort_values(by='Origin').reset_index(drop=True)\n",
    "\n",
    "x_test_sorted, y_test_sorted = test_data_sorted.drop(columns=['No.', 'A1', 'Origin'], axis=1), test_data_sorted['A1']\n",
    "x_test_sorted = standarize(x_test_sorted, x_train_mean, x_train_std).to_numpy()\n",
    "y_test_sorted = standarize(y_test_sorted, y_train_mean, y_train_std).to_numpy().reshape(-1, 1)"
   ]
  },
  {
   "cell_type": "code",
   "execution_count": 5,
   "metadata": {},
   "outputs": [],
   "source": [
    "input_dimension = 53\n",
    "hidden_dimension = 64\n",
    "output_dimension = 1"
   ]
  }
 ],
 "metadata": {
  "kernelspec": {
   "display_name": "base",
   "language": "python",
   "name": "python3"
  },
  "language_info": {
   "codemirror_mode": {
    "name": "ipython",
    "version": 3
   },
   "file_extension": ".py",
   "mimetype": "text/x-python",
   "name": "python",
   "nbconvert_exporter": "python",
   "pygments_lexer": "ipython3",
   "version": "3.12.3"
  }
 },
 "nbformat": 4,
 "nbformat_minor": 2
}
