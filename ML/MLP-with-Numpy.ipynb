{
 "cells": [
  {
   "cell_type": "code",
   "execution_count": 27,
   "metadata": {},
   "outputs": [],
   "source": [
    "import numpy as np\n",
    "import pandas as pd\n",
    "import matplotlib.pyplot as plt"
   ]
  },
  {
   "cell_type": "code",
   "execution_count": 28,
   "metadata": {},
   "outputs": [],
   "source": [
    "file_path = \"../Datasets/조업편차분석.csv\"\n",
    "data = pd.read_csv(file_path)"
   ]
  },
  {
   "cell_type": "code",
   "execution_count": 29,
   "metadata": {},
   "outputs": [],
   "source": [
    "x = data.drop(columns=[\"No.\", \"A1\"]).to_numpy()\n",
    "y = data[\"A1\"].to_numpy().reshape(-1, 1)"
   ]
  },
  {
   "cell_type": "code",
   "execution_count": 30,
   "metadata": {},
   "outputs": [],
   "source": [
    "def minmax(train, test):\n",
    "    train_min = np.min(train, axis=0)\n",
    "    train_max = np.max(train, axis=0)\n",
    "\n",
    "    scaled_train = (train - train_min) / (train_max - train_min)\n",
    "    scaled_test = (test - train_min) / (train_max - train_min)\n",
    "\n",
    "    return scaled_train, scaled_test\n",
    "\n",
    "def standarize(train, test):\n",
    "    mean = np.mean(train)\n",
    "    std = np.std(train)\n",
    "\n",
    "    scaled_train = (train - mean) / std\n",
    "    scaled_test = (test- mean) / std\n",
    "\n",
    "    return scaled_train, scaled_test"
   ]
  },
  {
   "cell_type": "code",
   "execution_count": 31,
   "metadata": {},
   "outputs": [],
   "source": [
    "train_ratio = 0.8\n",
    "train_size = int(x.shape[0] * train_ratio)\n",
    "\n",
    "x_train, x_test = minmax(x[:train_size], x[train_size:])\n",
    "y_train, y_test = minmax(y[:train_size], y[train_size:])\n",
    "\n",
    "# x_train_stand, x_test_stand = standarize(x[:train_size], x[train_size:])\n",
    "# y_train_stand, y_test_stand = standarize(y[:train_size], y[train_size:])"
   ]
  },
  {
   "cell_type": "code",
   "execution_count": 32,
   "metadata": {},
   "outputs": [
    {
     "name": "stdout",
     "output_type": "stream",
     "text": [
      "(6076, 53) (1520, 53)\n",
      "(6076, 1) (1520, 1)\n"
     ]
    }
   ],
   "source": [
    "print(x_train.shape, x_test.shape)\n",
    "print(y_train.shape, y_test.shape)"
   ]
  },
  {
   "cell_type": "code",
   "execution_count": 33,
   "metadata": {},
   "outputs": [],
   "source": [
    "def tanh(z):\n",
    "    return np.tanh(z)\n",
    "\n",
    "def tanh_derivative(z):\n",
    "    return 1 - tanh(z) ** 2\n",
    "\n",
    "def relu(z):\n",
    "    pass\n",
    "\n",
    "def relu_derivative(z):\n",
    "    pass"
   ]
  },
  {
   "cell_type": "code",
   "execution_count": 34,
   "metadata": {},
   "outputs": [],
   "source": [
    "def mse(y_true, y_pred):\n",
    "    return np.mean((y_true - y_pred) ** 2)\n",
    "\n",
    "def mse_derivative(y_true, y_pred):\n",
    "    return 2 * (y_pred - y_true) / len(y_true)"
   ]
  },
  {
   "cell_type": "code",
   "execution_count": null,
   "metadata": {},
   "outputs": [],
   "source": [
    "def forward_prop_tanh(x, w_ih, w_ho, b_ih, b_ho):\n",
    "    z_ih = np.dot(w_ih, x.T) + b_ih\n",
    "    a_ih = tanh(z_ih)\n",
    "\n",
    "    z_ho = np.dot(w_ho, a_ih) + b_ho\n",
    "    a_ho = tanh(z_ho)\n",
    "\n",
    "    return z_ih, z_ho, a_ih, a_ho"
   ]
  },
  {
   "cell_type": "code",
   "execution_count": null,
   "metadata": {},
   "outputs": [],
   "source": [
    "def backward_prop_tanh(x, y_true, z_ih, z_ho, a_ih, a_ho, w_ih, w_ho, b_ih, b_ho, learning_rate):\n",
    "    erroe_output = (a_ho - y_true) * mse_derivative(z_ho)\n",
    "    dw_ho = np.dot()\n"
   ]
  },
  {
   "cell_type": "code",
   "execution_count": null,
   "metadata": {},
   "outputs": [],
   "source": []
  },
  {
   "cell_type": "code",
   "execution_count": null,
   "metadata": {},
   "outputs": [],
   "source": [
    "input_dim = x_train.shape[1]     # 53\n",
    "hidden_dim = 64                  # 64\n",
    "output_dim = y_train.shape[1]    # 1\n",
    "\n",
    "np.random.seed(42)\n",
    "\n",
    "sqrt_h = np.sqrt(6 / (input_dim + hidden_dim))\n",
    "sqrt_y = np.sqrt(6 / (hidden_dim + output_dim))\n",
    "\n",
    "w_ih = np.random.uniform(low=-sqrt_h, high=sqrt_h, size=(hidden_dim, input_dim))     # (64, 53)\n",
    "w_ho = np.random.uniform(low=-sqrt_h, high=sqrt_h, size=(output_dim, hidden_dim))    # (1, 64)\n",
    "\n",
    "b_ih = np.zeros((hidden_dim, 1))    # (64, 1)\n",
    "b_ho = np.zeros((output_dim, 1))    # (1, 1)"
   ]
  },
  {
   "cell_type": "code",
   "execution_count": 38,
   "metadata": {},
   "outputs": [
    {
     "name": "stdout",
     "output_type": "stream",
     "text": [
      "53\n"
     ]
    }
   ],
   "source": [
    "print(input_dim)"
   ]
  },
  {
   "cell_type": "code",
   "execution_count": null,
   "metadata": {},
   "outputs": [],
   "source": []
  }
 ],
 "metadata": {
  "kernelspec": {
   "display_name": "base",
   "language": "python",
   "name": "python3"
  },
  "language_info": {
   "codemirror_mode": {
    "name": "ipython",
    "version": 3
   },
   "file_extension": ".py",
   "mimetype": "text/x-python",
   "name": "python",
   "nbconvert_exporter": "python",
   "pygments_lexer": "ipython3",
   "version": "3.12.3"
  }
 },
 "nbformat": 4,
 "nbformat_minor": 2
}
